{
  "nbformat": 4,
  "nbformat_minor": 0,
  "metadata": {
    "colab": {
      "provenance": [],
      "mount_file_id": "1pb3F6NRAyMxlCBf8owR7EA5sAniRCeHU",
      "authorship_tag": "ABX9TyOPkdnbj7k1RYpZN8JifPo3",
      "include_colab_link": true
    },
    "kernelspec": {
      "name": "python3",
      "display_name": "Python 3"
    },
    "language_info": {
      "name": "python"
    }
  },
  "cells": [
    {
      "cell_type": "markdown",
      "metadata": {
        "id": "view-in-github",
        "colab_type": "text"
      },
      "source": [
        "<a href=\"https://colab.research.google.com/github/fvirtuozo/ML_for_Project_Time_Prediction/blob/main/Generating_Random_Databases.ipynb\" target=\"_parent\"><img src=\"https://colab.research.google.com/assets/colab-badge.svg\" alt=\"Open In Colab\"/></a>"
      ]
    },
    {
      "cell_type": "code",
      "execution_count": 12,
      "metadata": {
        "id": "45TbQGwandQ_"
      },
      "outputs": [],
      "source": [
        "import random\n",
        "import string\n",
        "from faker import Faker\n",
        "import pandas as pd\n",
        "\n",
        "from google.colab import drive\n",
        "\n",
        "from gspread_dataframe import set_with_dataframe\n",
        "from google.colab import auth\n",
        "from google.auth import default\n",
        "import gspread"
      ]
    },
    {
      "cell_type": "code",
      "source": [
        "drive.mount('/content/drive')\n",
        "auth.authenticate_user()\n",
        "creds, _ = default()\n",
        "gc = gspread.authorize(creds)"
      ],
      "metadata": {
        "colab": {
          "base_uri": "https://localhost:8080/"
        },
        "id": "RcpEOg5Oo7Td",
        "outputId": "e0935465-c16f-4b8a-fc7f-f56d4a7db711"
      },
      "execution_count": 13,
      "outputs": [
        {
          "output_type": "stream",
          "name": "stdout",
          "text": [
            "Drive already mounted at /content/drive; to attempt to forcibly remount, call drive.mount(\"/content/drive\", force_remount=True).\n"
          ]
        }
      ]
    },
    {
      "cell_type": "code",
      "source": [
        "worklogs = pd.read_excel('/content/drive/MyDrive/Colab Notebooks/Portifolio/Cópia de worklogs_2025.xlsx')\n",
        "\n",
        "worklogs_edited = gc.open_by_key(tabela_worklogs).sheet1\n",
        "worklogs_edited = pd.DataFrame(worklogs_edited.get_all_records())\n",
        "\n",
        "db_asist_origin = pd.read_excel('/content/drive/MyDrive/Colab Notebooks/Portifolio/Cópia de Asist.xlsx', header = None)\n",
        "db_asist_open = pd.read_excel('/content/drive/MyDrive/Colab Notebooks/Portifolio/Cópia de asist_open.xlsx', header = None)\n",
        "\n",
        "df_Projects = pd.read_csv('/content/drive/MyDrive/Colab Notebooks/Portifolio/Cópia de Jira Export Excel CSV.csv')\n",
        "folder_to_save = r'.\\Data_Sources'"
      ],
      "metadata": {
        "id": "Am_guoTxpIFe"
      },
      "execution_count": null,
      "outputs": []
    },
    {
      "cell_type": "code",
      "source": [
        "faker = Faker()\n",
        "\n",
        "range1 = 1000\n",
        "\n",
        "\n",
        "data = {\n",
        "    'Summary': [f'TICKET-{random.randint(100, 999)} {faker.sentence()}' for _ in range(num_records)],  # Random summary with TICKET-XXX\n",
        "    'Issue key': [faker.bothify(text='ISSUE-###') for _ in range(num_records)],  # Random issue key\n",
        "    'Issue id': [random.randint(1000, 9999) for _ in range(num_records)],  # Random issue id\n",
        "    'Issue Type': [random.choice(['Bug', 'Task', 'Feature', 'Improvement']) for _ in range(num_records)],  # Issue type\n",
        "    'Status': [random.choice(['Open', 'In Progress', 'Closed', 'Resolved']) for _ in range(num_records)],  # Status of the issue\n",
        "    'Project key': [faker.bothify(text='PROJECT-###') for _ in range(num_records)],  # Project key\n",
        "    'Parent': [random.choice([None, faker.bothify(text='ISSUE-###')]) for _ in range(num_records)],  # Parent issue key (or None)\n",
        "    'Project name': [faker.company() for _ in range(num_records)],  # Random project name (company name)\n",
        "    'Assignee': [faker.name() for _ in range(num_records)],  # Random assignee name\n",
        "    'Creator': [faker.name() for _ in range(num_records)],  # Random creator name\n",
        "    'Created': [faker.date_this_year() for _ in range(num_records)],  # Random created date\n",
        "    'Updated': [faker.date_this_year() for _ in range(num_records)],  # Random updated date\n",
        "    'Σ Original Estimate': [random.randint(5, 100) for _ in range(num_records)],  # Random estimate (in hours)\n",
        "    'Σ Time Spent': [random.randint(1, 50) for _ in range(num_records)],  # Random time spent (in hours)\n",
        "}\n",
        "\n",
        "\n",
        "df = pd.DataFrame(data)\n",
        "df.to_excel(\"/content/drive/MyDrive/Colab Notebooks/Portifolio/For Upload/JiraExport.xlsx\", index=False)\n",
        "\n",
        "print(\"Arquivo fake_dataset.csv criado com sucesso!\")"
      ],
      "metadata": {
        "colab": {
          "base_uri": "https://localhost:8080/"
        },
        "id": "UdXSC32_nqT-",
        "outputId": "48970819-5f60-4980-9eaf-3ad2ac6f2de1"
      },
      "execution_count": 27,
      "outputs": [
        {
          "output_type": "stream",
          "name": "stdout",
          "text": [
            "Arquivo fake_dataset.csv criado com sucesso!\n"
          ]
        }
      ]
    },
    {
      "cell_type": "code",
      "source": [
        "Devs_testers = [\n",
        "    {'name': 'Alice Johnson', 'role': 'Developer'},\n",
        "    {'name': 'Bob Smith', 'role': 'Developer'},\n",
        "    {'name': 'Charlie Brown', 'role': 'Developer'},\n",
        "    {'name': 'David Williams', 'role': 'Developer'},\n",
        "    {'name': 'Eva Davis', 'role': 'Developer'},\n",
        "    {'name': 'Frank Miller', 'role': 'Developer'},\n",
        "    {'name': 'Grace Moore', 'role': 'Developer'},\n",
        "    {'name': 'Hannah Taylor', 'role': 'Developer'},\n",
        "    {'name': 'Ian Anderson', 'role': 'Developer'},\n",
        "    {'name': 'Jack Thomas', 'role': 'Developer'},\n",
        "    {'name': 'Kathy Jackson', 'role': 'Developer'},\n",
        "    {'name': 'Liam White', 'role': 'Developer'},\n",
        "    {'name': 'Mona King', 'role': 'Developer'},\n",
        "    {'name': 'Nathan Harris', 'role': 'Developer'},\n",
        "    {'name': 'Olivia Scott', 'role': 'Developer'},\n",
        "    {'name': 'Paul Robinson', 'role': 'Tester'},\n",
        "    {'name': 'Quinn Clark', 'role': 'Tester'},\n",
        "    {'name': 'Rachel Lewis', 'role': 'Tester'},\n",
        "    {'name': 'Steve Walker', 'role': 'Tester'},\n",
        "    {'name': 'Tina Hall', 'role': 'Tester'}\n",
        "]"
      ],
      "metadata": {
        "id": "9rGKv8dCsOjR"
      },
      "execution_count": 21,
      "outputs": []
    },
    {
      "cell_type": "code",
      "source": [
        "num_records = 200\n",
        "\n",
        "def generate_random_data():\n",
        "    data = {\n",
        "        'Worklog Id': [faker.uuid4() for _ in range(num_records)],\n",
        "        'Issue Key': [faker.bothify(text='PROJ-###') for _ in range(num_records)],\n",
        "        'Issue Summary': [faker.sentence() for _ in range(num_records)],\n",
        "        'Issue Status': [random.choice(['Open', 'In Progress', 'Resolved', 'Closed']) for _ in range(num_records)],\n",
        "        'Time Spent (seconds)': [random.randint(1000, 10000) for _ in range(num_records)],\n",
        "        'Start Date': [faker.date_this_year() for _ in range(num_records)],\n",
        "        'Update Date': [faker.date_this_year() for _ in range(num_records)],\n",
        "        'Author':  [random.choice(Devs_testers)['name'] for _ in range(num_records)],\n",
        "        'Project Name': [faker.company() for _ in range(num_records)],\n",
        "        'Issue Type': [random.choice(['Bug', 'Task', 'Story', 'Epic']) for _ in range(num_records)],\n",
        "        'Due Date': [faker.date_this_year() for _ in range(num_records)],\n",
        "        'Parent Key': [faker.bothify(text='PROJ-###') for _ in range(num_records)],\n",
        "    }\n",
        "    return data\n",
        "\n",
        "data = generate_random_data()\n",
        "\n",
        "df = pd.DataFrame(data)\n",
        "df.to_excel(\"/content/drive/MyDrive/Colab Notebooks/Portifolio/For Upload/worklogs_2025.xlsx\", index=False)\n",
        "\n"
      ],
      "metadata": {
        "id": "rVF5T8CWo3n9"
      },
      "execution_count": 22,
      "outputs": []
    },
    {
      "cell_type": "code",
      "source": [
        "def generate_ticket_data(num_records=10, status='open'):\n",
        "    data = {\n",
        "        'Type': [random.choice(['Bug', 'Feature Request', 'Task', 'Improvement']) for _ in range(num_records)],\n",
        "        'Priorité': [random.choice(['Low', 'Medium', 'High', 'Urgent']) for _ in range(num_records)],\n",
        "        'Numéro': [faker.bothify(text='TICKET-###') for _ in range(num_records)],\n",
        "        'Titre': [faker.sentence() for _ in range(num_records)],\n",
        "        'Statut': [random.choice(['Open', 'In Progress', 'Closed', 'Resolved']) if status == 'open' else None for _ in range(num_records)],\n",
        "        'Domaine': [random.choice(['Development', 'Testing', 'Maintenance', 'Support']) for _ in range(num_records)],\n",
        "        'Date ouverture': [faker.date_this_year() for _ in range(num_records)],\n",
        "        'Date prise en charge': [faker.date_this_year() for _ in range(num_records)],\n",
        "        'Date résolution': [None if status == 'open' else faker.date_this_year() for _ in range(num_records)],\n",
        "        'Date cloture': [None if status == 'open' else faker.date_this_year() for _ in range(num_records)],\n",
        "        'Groupe Affectation': [random.choice(['Dev Team A', 'Dev Team B', 'QA Team', 'Support Team']) for _ in range(num_records)],\n",
        "    }\n",
        "\n",
        "    return pd.DataFrame(data)\n",
        "\n",
        "\n",
        "db_tickets_open = generate_ticket_data(num_records=500, status='open')\n",
        "\n",
        "db_tickets_closed = generate_ticket_data(num_records=1000, status='closed')\n",
        "\n",
        "db_tickets_open.to_excel(\"/content/drive/MyDrive/Colab Notebooks/Portifolio/For Upload/tickets_open.xlsx\", index=False)\n",
        "db_tickets_closed.to_excel(\"/content/drive/MyDrive/Colab Notebooks/Portifolio/For Upload/tickets_closed.xlsx\", index=False)\n",
        "\n"
      ],
      "metadata": {
        "id": "ewjrJoj1rVm-"
      },
      "execution_count": 25,
      "outputs": []
    },
    {
      "cell_type": "code",
      "source": [],
      "metadata": {
        "id": "xU52ZmgStSmP"
      },
      "execution_count": null,
      "outputs": []
    }
  ]
}